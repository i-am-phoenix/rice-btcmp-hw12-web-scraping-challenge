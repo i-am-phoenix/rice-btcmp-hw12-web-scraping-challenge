{
 "cells": [
  {
   "cell_type": "code",
   "execution_count": 38,
   "metadata": {},
   "outputs": [],
   "source": [
    "# Importing modules & dependencies\n",
    "from bs4 import BeautifulSoup as bs\n",
    "import pandas as pd\n",
    "import requests\n",
    "from splinter import Browser\n",
    "from webdriver_manager.chrome import ChromeDriverManager\n",
    "from pprint import pprint as pp"
   ]
  },
  {
   "cell_type": "code",
   "execution_count": 39,
   "metadata": {},
   "outputs": [],
   "source": [
    "#-----------------------------------MARS NEWS SITE-----------------------------------#\n",
    "# URL of page to be scraped\n",
    "url_mars_news = 'https://redplanetscience.com/'"
   ]
  },
  {
   "cell_type": "code",
   "execution_count": 40,
   "metadata": {},
   "outputs": [
    {
     "name": "stderr",
     "output_type": "stream",
     "text": [
      "\n",
      "\n",
      "====== WebDriver manager ======\n",
      "Current google-chrome version is 92.0.4515\n",
      "Get LATEST driver version for 92.0.4515\n",
      "Driver [C:\\Users\\troub\\.wdm\\drivers\\chromedriver\\win32\\92.0.4515.43\\chromedriver.exe] found in cache\n"
     ]
    }
   ],
   "source": [
    "# Setup splinter\n",
    "# simulate opening a Chrome browser window and triggering JS script execution\n",
    "executable_path = {'executable_path': ChromeDriverManager().install()}\n",
    "browser = Browser('chrome', **executable_path, headless=False)"
   ]
  },
  {
   "cell_type": "code",
   "execution_count": 41,
   "metadata": {},
   "outputs": [],
   "source": [
    "# Open url_mars_news within teh newly opened browser session\n",
    "browser.visit(url_mars_news)"
   ]
  },
  {
   "cell_type": "code",
   "execution_count": 42,
   "metadata": {},
   "outputs": [],
   "source": [
    "# Retrieve page with the requests module\n",
    "# response = requests.get(url_mars_news)\n",
    "html = browser.html"
   ]
  },
  {
   "cell_type": "code",
   "execution_count": 43,
   "metadata": {},
   "outputs": [],
   "source": [
    "# Create BeautifulSoup object; parse with 'html.parser'\n",
    "soup = bs(html, 'html.parser')"
   ]
  },
  {
   "cell_type": "code",
   "execution_count": 44,
   "metadata": {},
   "outputs": [
    {
     "name": "stdout",
     "output_type": "stream",
     "text": [
      "<div class=\"col-md-8\">\n",
      " <div class=\"list_text\">\n",
      "  <div class=\"list_date\">\n",
      "   July 26, 2021\n",
      "  </div>\n",
      "  <div class=\"content_title\">\n",
      "   A Year of Surprising Science From NASA's InSight Mars Mission\n",
      "  </div>\n",
      "  <div class=\"article_teaser_body\">\n",
      "   A batch of new papers summarizes the lander's findings above and below the surface of the Red Planet.\n",
      "  </div>\n",
      " </div>\n",
      "</div>\n",
      "\n",
      "-------------\n",
      "<div class=\"col-md-8\">\n",
      " <div class=\"list_text\">\n",
      "  <div class=\"list_date\">\n",
      "   July 25, 2021\n",
      "  </div>\n",
      "  <div class=\"content_title\">\n",
      "   NASA's Mars 2020 Rover Closer to Getting Its Name\n",
      "  </div>\n",
      "  <div class=\"article_teaser_body\">\n",
      "   155 students from across the U.S. have been chosen as semifinalists in NASA's essay contest to name the Mars 2020 rover, and see it launch from Cape Canaveral this July.\n",
      "  </div>\n",
      " </div>\n",
      "</div>\n",
      "\n",
      "-------------\n",
      "<div class=\"col-md-8\">\n",
      " <div class=\"list_text\">\n",
      "  <div class=\"list_date\">\n",
      "   July 24, 2021\n",
      "  </div>\n",
      "  <div class=\"content_title\">\n",
      "   NASA's Perseverance Rover Will Peer Beneath Mars' Surface\n",
      "  </div>\n",
      "  <div class=\"article_teaser_body\">\n",
      "   The agency's newest rover will use the first ground-penetrating radar instrument on the Martian surface to help search for signs of past microbial life.\n",
      "  </div>\n",
      " </div>\n",
      "</div>\n",
      "\n",
      "-------------\n",
      "<div class=\"col-md-8\">\n",
      " <div class=\"list_text\">\n",
      "  <div class=\"list_date\">\n",
      "   July 22, 2021\n",
      "  </div>\n",
      "  <div class=\"content_title\">\n",
      "   NASA's Curiosity Mars Rover Takes a New Selfie Before Record Climb\n",
      "  </div>\n",
      "  <div class=\"article_teaser_body\">\n",
      "   Along with capturing an image before its steepest ascent ever, the robotic explorer filmed its \"selfie stick,\" or robotic arm, in action.\n",
      "  </div>\n",
      " </div>\n",
      "</div>\n",
      "\n",
      "-------------\n",
      "<div class=\"col-md-8\">\n",
      " <div class=\"list_text\">\n",
      "  <div class=\"list_date\">\n",
      "   July 18, 2021\n",
      "  </div>\n",
      "  <div class=\"content_title\">\n",
      "   Sensors on Mars 2020 Spacecraft Answer Long-Distance Call From Earth\n",
      "  </div>\n",
      "  <div class=\"article_teaser_body\">\n",
      "   Instruments tailored to collect data during the descent of NASA's next rover through the Red Planet's atmosphere have been checked in flight.\n",
      "  </div>\n",
      " </div>\n",
      "</div>\n",
      "\n",
      "-------------\n",
      "<div class=\"col-md-8\">\n",
      " <div class=\"list_text\">\n",
      "  <div class=\"list_date\">\n",
      "   July 15, 2021\n",
      "  </div>\n",
      "  <div class=\"content_title\">\n",
      "   Independent Review Indicates NASA Prepared for Mars Sample Return Campaign\n",
      "  </div>\n",
      "  <div class=\"article_teaser_body\">\n",
      "   NASA released an independent review report Tuesday indicating the agency is well positioned for its Mars Sample Return campaign to bring pristine samples from Mars to Earth for scientific study.\n",
      "  </div>\n",
      " </div>\n",
      "</div>\n",
      "\n",
      "-------------\n",
      "<div class=\"col-md-8\">\n",
      " <div class=\"list_text\">\n",
      "  <div class=\"list_date\">\n",
      "   July 12, 2021\n",
      "  </div>\n",
      "  <div class=\"content_title\">\n",
      "   NASA's Perseverance Mars Rover Gets Its Wheels and Air Brakes\n",
      "  </div>\n",
      "  <div class=\"article_teaser_body\">\n",
      "   After the rover was shipped from JPL to Kennedy Space Center, the team is getting closer to finalizing the spacecraft for launch later this summer.\n",
      "  </div>\n",
      " </div>\n",
      "</div>\n",
      "\n",
      "-------------\n",
      "<div class=\"col-md-8\">\n",
      " <div class=\"list_text\">\n",
      "  <div class=\"list_date\">\n",
      "   July 12, 2021\n",
      "  </div>\n",
      "  <div class=\"content_title\">\n",
      "   NASA Wins Two Emmy Awards for Interactive Mission Coverage\n",
      "  </div>\n",
      "  <div class=\"article_teaser_body\">\n",
      "   NASA-JPL's coverage of the Mars InSight landing earns one of the two wins, making this the NASA center's second Emmy.\n",
      "  </div>\n",
      " </div>\n",
      "</div>\n",
      "\n",
      "-------------\n",
      "<div class=\"col-md-8\">\n",
      " <div class=\"list_text\">\n",
      "  <div class=\"list_date\">\n",
      "   July 7, 2021\n",
      "  </div>\n",
      "  <div class=\"content_title\">\n",
      "   NASA Engineers Checking InSight's Weather Sensors\n",
      "  </div>\n",
      "  <div class=\"article_teaser_body\">\n",
      "   An electronics issue is suspected to be preventing the sensors from sharing their data about Mars weather with the spacecraft.\n",
      "  </div>\n",
      " </div>\n",
      "</div>\n",
      "\n",
      "-------------\n",
      "<div class=\"col-md-8\">\n",
      " <div class=\"list_text\">\n",
      "  <div class=\"list_date\">\n",
      "   July 6, 2021\n",
      "  </div>\n",
      "  <div class=\"content_title\">\n",
      "   NASA's Perseverance Rover Bringing 3D-Printed Metal Parts to Mars\n",
      "  </div>\n",
      "  <div class=\"article_teaser_body\">\n",
      "   For hobbyists and makers, 3D printing expands creative possibilities; for specialized engineers, it's also key to next-generation spacecraft design.\n",
      "  </div>\n",
      " </div>\n",
      "</div>\n",
      "\n",
      "-------------\n",
      "<div class=\"col-md-8\">\n",
      " <div class=\"list_text\">\n",
      "  <div class=\"list_date\">\n",
      "   July 4, 2021\n",
      "  </div>\n",
      "  <div class=\"content_title\">\n",
      "   From JPL's Mailroom to Mars and Beyond\n",
      "  </div>\n",
      "  <div class=\"article_teaser_body\">\n",
      "   Bill Allen has thrived as the mechanical systems design lead for three Mars rover missions, but he got his start as a teenager sorting letters for the NASA center.\n",
      "  </div>\n",
      " </div>\n",
      "</div>\n",
      "\n",
      "-------------\n",
      "<div class=\"col-md-8\">\n",
      " <div class=\"list_text\">\n",
      "  <div class=\"list_date\">\n",
      "   July 2, 2021\n",
      "  </div>\n",
      "  <div class=\"content_title\">\n",
      "   HiRISE Views NASA's InSight and Curiosity on Mars\n",
      "  </div>\n",
      "  <div class=\"article_teaser_body\">\n",
      "   New images taken from space offer the clearest orbital glimpse yet of InSight as well as a view of Curiosity rolling along.\n",
      "  </div>\n",
      " </div>\n",
      "</div>\n",
      "\n",
      "-------------\n",
      "<div class=\"col-md-8\">\n",
      " <div class=\"list_text\">\n",
      "  <div class=\"list_date\">\n",
      "   June 27, 2021\n",
      "  </div>\n",
      "  <div class=\"content_title\">\n",
      "   How NASA's Mars Helicopter Will Reach the Red Planet's Surface\n",
      "  </div>\n",
      "  <div class=\"article_teaser_body\">\n",
      "   The small craft will seek to prove that powered, controlled flight is possible on another planet. But just getting it onto the surface of Mars will take a whole lot of ingenuity.\n",
      "  </div>\n",
      " </div>\n",
      "</div>\n",
      "\n",
      "-------------\n",
      "<div class=\"col-md-8\">\n",
      " <div class=\"list_text\">\n",
      "  <div class=\"list_date\">\n",
      "   June 27, 2021\n",
      "  </div>\n",
      "  <div class=\"content_title\">\n",
      "   Celebrate Mars Reconnaissance Orbiter's Views From Above\n",
      "  </div>\n",
      "  <div class=\"article_teaser_body\">\n",
      "   Marking its 15th anniversary since launch, one of the oldest spacecraft at the Red Planet has provided glimpses of dust devils, avalanches, and more.\n",
      "  </div>\n",
      " </div>\n",
      "</div>\n",
      "\n",
      "-------------\n",
      "<div class=\"col-md-8\">\n",
      " <div class=\"list_text\">\n",
      "  <div class=\"list_date\">\n",
      "   June 26, 2021\n",
      "  </div>\n",
      "  <div class=\"content_title\">\n",
      "   NASA Invites Public to Share Excitement of Mars 2020 Perseverance Rover Launch\n",
      "  </div>\n",
      "  <div class=\"article_teaser_body\">\n",
      "   There are lots of ways to participate in the historic event, which is targeted for July 30.\n",
      "  </div>\n",
      " </div>\n",
      "</div>\n",
      "\n",
      "-------------\n"
     ]
    }
   ],
   "source": [
    "# Extract a single section with main content and then pull all div tags with class=\"col-md-8\"\n",
    "results = soup.find('section', class_='image_and_description_container').find_all('div', class_=\"col-md-8\")\n",
    "for result in results:\n",
    "    print(result.prettify())\n",
    "    print(\"-------------\")"
   ]
  },
  {
   "cell_type": "code",
   "execution_count": 8,
   "metadata": {},
   "outputs": [
    {
     "name": "stdout",
     "output_type": "stream",
     "text": [
      "-------------\n",
      "What's Mars Solar Conjunction, and Why Does It Matter?\n",
      "NASA spacecraft at Mars are going to be on their own for a few weeks when the Sun comes between Mars and Earth, interrupting communications.\n",
      "-------------\n",
      "NASA's InSight Flexes Its Arm While Its 'Mole' Hits Pause\n",
      "Now that the lander's robotic arm has helped the mole get underground, it will resume science activities that have been on hold.\n",
      "-------------\n",
      "NASA Perseverance Mars Rover Scientists Train in the Nevada Desert\n",
      "Team members searched for signs of ancient microscopic life there, just as NASA's latest rover will on the Red Planet next year.\n",
      "-------------\n",
      "NASA Wins 4 Webbys, 4 People's Voice Awards\n",
      "Winners include the JPL-managed \"Send Your Name to Mars\" campaign, NASA's Global Climate Change website and Solar System Interactive.\n",
      "-------------\n",
      "NASA's Mars 2020 Rover Tests Descent-Stage Separation\n",
      "A crane lifts the rocket-powered descent stage away from NASA's Mars 2020 rover after technicians tested the pyrotechnic charges that separate the two spacecraft.\n",
      "-------------\n",
      "The Launch Is Approaching for NASA's Next Mars Rover, Perseverance\n",
      "The Red Planet's surface has been visited by eight NASA spacecraft. The ninth will be the first that includes a roundtrip ticket in its flight plan. \n",
      "-------------\n",
      "How NASA's Perseverance Mars Team Adjusted to Work in the Time of Coronavirus \n",
      "Like much of the rest of the world, the Mars rover team is pushing forward with its mission-critical work while putting the health and safety of their colleagues and community first.\n",
      "-------------\n",
      "Sensors on Mars 2020 Spacecraft Answer Long-Distance Call From Earth\n",
      "Instruments tailored to collect data during the descent of NASA's next rover through the Red Planet's atmosphere have been checked in flight.\n",
      "-------------\n",
      "Common Questions about InSight's 'Mole'\n",
      "The following Q&As with members of the team answer some of the most common questions about the burrowing device, part of a science instrument called the Heat Flow and Physical Properties Package (HP3).\n",
      "-------------\n",
      "NASA's Curiosity Mars Rover Takes a New Selfie Before Record Climb\n",
      "Along with capturing an image before its steepest ascent ever, the robotic explorer filmed its \"selfie stick,\" or robotic arm, in action.\n",
      "-------------\n",
      "Heat and Dust Help Launch Martian Water Into Space, Scientists Find\n",
      "Scientists using an instrument aboard NASA’s Mars Atmosphere and Volatile EvolutioN, or MAVEN, spacecraft have discovered that water vapor near the surface of the Red Planet is lofted higher into the atmosphere than anyone expected was possible. \n",
      "-------------\n",
      "NASA's Perseverance Rover 100 Days Out\n",
      "Mark your calendars: The agency's latest rover has only about 8,640,000 seconds to go before it touches down on the Red Planet, becoming history's next Mars car.\n",
      "-------------\n",
      "Join NASA for the Launch of the Mars 2020 Perseverance Rover\n",
      "No matter where you live, choose from a menu of activities to join NASA as we \"Countdown to Mars\" and launch the Perseverance rover to the Red Planet.\n",
      "-------------\n",
      "NASA's Perseverance Rover Bringing 3D-Printed Metal Parts to Mars\n",
      "For hobbyists and makers, 3D printing expands creative possibilities; for specialized engineers, it's also key to next-generation spacecraft design.\n",
      "-------------\n",
      "NASA Mars Mission Connects With Bosnian and Herzegovinian Town\n",
      "A letter from NASA was presented to the mayor of Jezero, Bosnia-Herzegovina, honoring the connection between the town and Jezero Crater, the Mars 2020 rover landing site.\n"
     ]
    }
   ],
   "source": [
    "# Initialize news articles dictionary\n",
    "articles=[]\n",
    "\n",
    "# ========== Below has been commented out ========================\n",
    "# ========== as we only need one top article extracted, not all ==\n",
    "# ================================================================\n",
    "# #  Loop through returned results\n",
    "# for result in results:\n",
    "#     # Error handling\n",
    "#     try:\n",
    "#         # Identify and return post title\n",
    "#         title = result.find('div', class_='content_title').text\n",
    "        \n",
    "#         # Identify and return post description\n",
    "#         paragraph = result.find('div', class_='article_teaser_body').text\n",
    "        \n",
    "#         # Creade a dictionary entry\n",
    "#         article_entry = {\n",
    "#             \"news_title\" : title,\n",
    "#             \"news_p\"     : paragraph\n",
    "#         }\n",
    "        \n",
    "#         # Add new article entry to a dictionary \n",
    "#         articles.append(article_entry)\n",
    "        \n",
    "#         # Print results only if title and description are available\n",
    "#         if (title and paragraph):\n",
    "#             print('-------------')\n",
    "#             print(title)\n",
    "#             print(paragraph)\n",
    "#     except AttributeError as e:\n",
    "#         print(e)"
   ]
  },
  {
   "cell_type": "code",
   "execution_count": 47,
   "metadata": {},
   "outputs": [
    {
     "name": "stdout",
     "output_type": "stream",
     "text": [
      "-------------\n",
      "A Year of Surprising Science From NASA's InSight Mars Mission\n",
      "A batch of new papers summarizes the lander's findings above and below the surface of the Red Planet.\n"
     ]
    }
   ],
   "source": [
    "#  Loop through returned results\n",
    "for result in results:\n",
    "    # Error handling\n",
    "    try:\n",
    "        # Identify and return post title\n",
    "        title = result.find('div', class_='content_title').text\n",
    "        \n",
    "        # Identify and return post description\n",
    "        paragraph = result.find('div', class_='article_teaser_body').text\n",
    "        \n",
    "        # Creade a dictionary entry\n",
    "        article = {\n",
    "            \"news_title\" : title,\n",
    "            \"news_p\"     : paragraph\n",
    "        }\n",
    "        \n",
    "        \n",
    "        # Print results only if title and description are available\n",
    "        if (title and paragraph):\n",
    "            print('-------------')\n",
    "            print(title)\n",
    "            print(paragraph)\n",
    "            # Break execution after first valid (latest) article\n",
    "            break\n",
    "    except AttributeError as e:\n",
    "        print(e)"
   ]
  },
  {
   "cell_type": "code",
   "execution_count": 48,
   "metadata": {},
   "outputs": [],
   "source": [
    "# Close browser window\n",
    "browser.quit()"
   ]
  },
  {
   "cell_type": "code",
   "execution_count": 49,
   "metadata": {},
   "outputs": [],
   "source": [
    "#-----------------------------------JPL Mars Space Images - Featured Image-----------------------------------#\n",
    "jpl_url='https://spaceimages-mars.com/'"
   ]
  },
  {
   "cell_type": "code",
   "execution_count": 50,
   "metadata": {},
   "outputs": [
    {
     "name": "stderr",
     "output_type": "stream",
     "text": [
      "\n",
      "\n",
      "====== WebDriver manager ======\n",
      "Current google-chrome version is 92.0.4515\n",
      "Get LATEST driver version for 92.0.4515\n",
      "Driver [C:\\Users\\troub\\.wdm\\drivers\\chromedriver\\win32\\92.0.4515.43\\chromedriver.exe] found in cache\n"
     ]
    }
   ],
   "source": [
    "# Setup splinter\n",
    "executable_path = {'executable_path': ChromeDriverManager().install()}\n",
    "browser = Browser('chrome', **executable_path, headless=False)"
   ]
  },
  {
   "cell_type": "code",
   "execution_count": 51,
   "metadata": {},
   "outputs": [],
   "source": [
    "# Open url_mars_news within teh newly opened browser session\n",
    "browser.visit(jpl_url)"
   ]
  },
  {
   "cell_type": "code",
   "execution_count": 52,
   "metadata": {},
   "outputs": [],
   "source": [
    "# Read in page source\n",
    "html = browser.html"
   ]
  },
  {
   "cell_type": "code",
   "execution_count": 53,
   "metadata": {},
   "outputs": [],
   "source": [
    "# Parse the page source using html.parser\n",
    "soup = bs(html, 'html.parser')"
   ]
  },
  {
   "cell_type": "code",
   "execution_count": 54,
   "metadata": {},
   "outputs": [
    {
     "data": {
      "text/plain": [
       "'https://spaceimages-mars.com/image/featured/mars3.jpg'"
      ]
     },
     "execution_count": 54,
     "metadata": {},
     "output_type": "execute_result"
    }
   ],
   "source": [
    "# Find featured image object on teh page and concatenate its locat path to the website url\n",
    "featured_image_url = jpl_url + soup.find('img', class_='headerimage fade-in')['src']\n",
    "featured_image_url"
   ]
  },
  {
   "cell_type": "code",
   "execution_count": 55,
   "metadata": {},
   "outputs": [],
   "source": [
    "# Close browser window\n",
    "browser.quit()"
   ]
  },
  {
   "cell_type": "code",
   "execution_count": 56,
   "metadata": {},
   "outputs": [],
   "source": [
    "#-----------------------------------MARS FACTS-----------------------------------#\n",
    "url_mars_facts='https://galaxyfacts-mars.com/'"
   ]
  },
  {
   "cell_type": "code",
   "execution_count": 57,
   "metadata": {},
   "outputs": [
    {
     "data": {
      "text/plain": [
       "[                         0                1                2\n",
       " 0  Mars - Earth Comparison             Mars            Earth\n",
       " 1                Diameter:         6,779 km        12,742 km\n",
       " 2                    Mass:  6.39 × 10^23 kg  5.97 × 10^24 kg\n",
       " 3                   Moons:                2                1\n",
       " 4       Distance from Sun:   227,943,824 km   149,598,262 km\n",
       " 5          Length of Year:   687 Earth days      365.24 days\n",
       " 6             Temperature:     -87 to -5 °C      -88 to 58°C,\n",
       "                       0                              1\n",
       " 0  Equatorial Diameter:                       6,792 km\n",
       " 1       Polar Diameter:                       6,752 km\n",
       " 2                 Mass:  6.39 × 10^23 kg (0.11 Earths)\n",
       " 3                Moons:          2 ( Phobos & Deimos )\n",
       " 4       Orbit Distance:       227,943,824 km (1.38 AU)\n",
       " 5         Orbit Period:           687 days (1.9 years)\n",
       " 6  Surface Temperature:                   -87 to -5 °C\n",
       " 7         First Record:              2nd millennium BC\n",
       " 8          Recorded By:           Egyptian astronomers]"
      ]
     },
     "execution_count": 57,
     "metadata": {},
     "output_type": "execute_result"
    }
   ],
   "source": [
    "tables = pd.read_html(url_mars_facts)\n",
    "tables"
   ]
  },
  {
   "cell_type": "code",
   "execution_count": 58,
   "metadata": {},
   "outputs": [
    {
     "data": {
      "text/html": [
       "<div>\n",
       "<style scoped>\n",
       "    .dataframe tbody tr th:only-of-type {\n",
       "        vertical-align: middle;\n",
       "    }\n",
       "\n",
       "    .dataframe tbody tr th {\n",
       "        vertical-align: top;\n",
       "    }\n",
       "\n",
       "    .dataframe thead th {\n",
       "        text-align: right;\n",
       "    }\n",
       "</style>\n",
       "<table border=\"1\" class=\"dataframe\">\n",
       "  <thead>\n",
       "    <tr style=\"text-align: right;\">\n",
       "      <th></th>\n",
       "      <th>Props</th>\n",
       "      <th>Value</th>\n",
       "    </tr>\n",
       "  </thead>\n",
       "  <tbody>\n",
       "    <tr>\n",
       "      <th>0</th>\n",
       "      <td>Equatorial Diameter:</td>\n",
       "      <td>6,792 km</td>\n",
       "    </tr>\n",
       "    <tr>\n",
       "      <th>1</th>\n",
       "      <td>Polar Diameter:</td>\n",
       "      <td>6,752 km</td>\n",
       "    </tr>\n",
       "    <tr>\n",
       "      <th>2</th>\n",
       "      <td>Mass:</td>\n",
       "      <td>6.39 × 10^23 kg (0.11 Earths)</td>\n",
       "    </tr>\n",
       "    <tr>\n",
       "      <th>3</th>\n",
       "      <td>Moons:</td>\n",
       "      <td>2 ( Phobos &amp; Deimos )</td>\n",
       "    </tr>\n",
       "    <tr>\n",
       "      <th>4</th>\n",
       "      <td>Orbit Distance:</td>\n",
       "      <td>227,943,824 km (1.38 AU)</td>\n",
       "    </tr>\n",
       "    <tr>\n",
       "      <th>5</th>\n",
       "      <td>Orbit Period:</td>\n",
       "      <td>687 days (1.9 years)</td>\n",
       "    </tr>\n",
       "    <tr>\n",
       "      <th>6</th>\n",
       "      <td>Surface Temperature:</td>\n",
       "      <td>-87 to -5 °C</td>\n",
       "    </tr>\n",
       "    <tr>\n",
       "      <th>7</th>\n",
       "      <td>First Record:</td>\n",
       "      <td>2nd millennium BC</td>\n",
       "    </tr>\n",
       "    <tr>\n",
       "      <th>8</th>\n",
       "      <td>Recorded By:</td>\n",
       "      <td>Egyptian astronomers</td>\n",
       "    </tr>\n",
       "  </tbody>\n",
       "</table>\n",
       "</div>"
      ],
      "text/plain": [
       "                  Props                          Value\n",
       "0  Equatorial Diameter:                       6,792 km\n",
       "1       Polar Diameter:                       6,752 km\n",
       "2                 Mass:  6.39 × 10^23 kg (0.11 Earths)\n",
       "3                Moons:          2 ( Phobos & Deimos )\n",
       "4       Orbit Distance:       227,943,824 km (1.38 AU)\n",
       "5         Orbit Period:           687 days (1.9 years)\n",
       "6  Surface Temperature:                   -87 to -5 °C\n",
       "7         First Record:              2nd millennium BC\n",
       "8          Recorded By:           Egyptian astronomers"
      ]
     },
     "execution_count": 58,
     "metadata": {},
     "output_type": "execute_result"
    }
   ],
   "source": [
    "mars_stats_v1=tables[1].rename(columns={0:'Props',1:'Value'})\n",
    "mars_stats_v1"
   ]
  },
  {
   "cell_type": "code",
   "execution_count": 59,
   "metadata": {},
   "outputs": [
    {
     "data": {
      "text/html": [
       "<div>\n",
       "<style scoped>\n",
       "    .dataframe tbody tr th:only-of-type {\n",
       "        vertical-align: middle;\n",
       "    }\n",
       "\n",
       "    .dataframe tbody tr th {\n",
       "        vertical-align: top;\n",
       "    }\n",
       "\n",
       "    .dataframe thead th {\n",
       "        text-align: right;\n",
       "    }\n",
       "</style>\n",
       "<table border=\"1\" class=\"dataframe\">\n",
       "  <thead>\n",
       "    <tr style=\"text-align: right;\">\n",
       "      <th></th>\n",
       "      <th>Props</th>\n",
       "      <th>Mars</th>\n",
       "      <th>Earth</th>\n",
       "    </tr>\n",
       "  </thead>\n",
       "  <tbody>\n",
       "    <tr>\n",
       "      <th>1</th>\n",
       "      <td>Diameter:</td>\n",
       "      <td>6,779 km</td>\n",
       "      <td>12,742 km</td>\n",
       "    </tr>\n",
       "    <tr>\n",
       "      <th>2</th>\n",
       "      <td>Mass:</td>\n",
       "      <td>6.39 × 10^23 kg</td>\n",
       "      <td>5.97 × 10^24 kg</td>\n",
       "    </tr>\n",
       "    <tr>\n",
       "      <th>3</th>\n",
       "      <td>Moons:</td>\n",
       "      <td>2</td>\n",
       "      <td>1</td>\n",
       "    </tr>\n",
       "    <tr>\n",
       "      <th>4</th>\n",
       "      <td>Distance from Sun:</td>\n",
       "      <td>227,943,824 km</td>\n",
       "      <td>149,598,262 km</td>\n",
       "    </tr>\n",
       "    <tr>\n",
       "      <th>5</th>\n",
       "      <td>Length of Year:</td>\n",
       "      <td>687 Earth days</td>\n",
       "      <td>365.24 days</td>\n",
       "    </tr>\n",
       "    <tr>\n",
       "      <th>6</th>\n",
       "      <td>Temperature:</td>\n",
       "      <td>-87 to -5 °C</td>\n",
       "      <td>-88 to 58°C</td>\n",
       "    </tr>\n",
       "  </tbody>\n",
       "</table>\n",
       "</div>"
      ],
      "text/plain": [
       "                Props             Mars            Earth\n",
       "1           Diameter:         6,779 km        12,742 km\n",
       "2               Mass:  6.39 × 10^23 kg  5.97 × 10^24 kg\n",
       "3              Moons:                2                1\n",
       "4  Distance from Sun:   227,943,824 km   149,598,262 km\n",
       "5     Length of Year:   687 Earth days      365.24 days\n",
       "6        Temperature:     -87 to -5 °C      -88 to 58°C"
      ]
     },
     "execution_count": 59,
     "metadata": {},
     "output_type": "execute_result"
    }
   ],
   "source": [
    "mars_stats_v2=tables[0].rename(columns={0:\"Props\",1:\"Mars\",2:\"Earth\"})\n",
    "mars_stats_v2=mars_stats_v2.drop(index=0)\n",
    "mars_stats_v2"
   ]
  },
  {
   "cell_type": "code",
   "execution_count": 91,
   "metadata": {},
   "outputs": [],
   "source": [
    "#-----------------------------------Mars Hemispheres-----------------------------------#\n",
    "mars_hem_url='https://marshemispheres.com/'"
   ]
  },
  {
   "cell_type": "code",
   "execution_count": 92,
   "metadata": {},
   "outputs": [
    {
     "name": "stderr",
     "output_type": "stream",
     "text": [
      "\n",
      "\n",
      "====== WebDriver manager ======\n",
      "Current google-chrome version is 92.0.4515\n",
      "Get LATEST driver version for 92.0.4515\n",
      "Driver [C:\\Users\\troub\\.wdm\\drivers\\chromedriver\\win32\\92.0.4515.43\\chromedriver.exe] found in cache\n"
     ]
    }
   ],
   "source": [
    "# Setup splinter\n",
    "executable_path = {'executable_path': ChromeDriverManager().install()}\n",
    "browser = Browser('chrome', **executable_path, headless=False)"
   ]
  },
  {
   "cell_type": "code",
   "execution_count": 93,
   "metadata": {},
   "outputs": [],
   "source": [
    "# Open url_mars_news within teh newly opened browser session\n",
    "browser.visit(mars_hem_url)"
   ]
  },
  {
   "cell_type": "code",
   "execution_count": 94,
   "metadata": {},
   "outputs": [],
   "source": [
    "# Read in page source\n",
    "html = requests.get(mars_hem_url).text"
   ]
  },
  {
   "cell_type": "code",
   "execution_count": 95,
   "metadata": {},
   "outputs": [],
   "source": [
    "# Create BeautifulSoup object; parse with 'html.parser'\n",
    "soup = bs(html, 'html.parser')"
   ]
  },
  {
   "cell_type": "code",
   "execution_count": 96,
   "metadata": {},
   "outputs": [],
   "source": [
    "results=soup.find_all('div', class_=\"description\")\n",
    "# results"
   ]
  },
  {
   "cell_type": "code",
   "execution_count": 97,
   "metadata": {},
   "outputs": [
    {
     "name": "stdout",
     "output_type": "stream",
     "text": [
      "Cerberus Hemisphere\n",
      "https://marshemispheres.com/images/cerberus_enhanced.tif\n",
      "https://marshemispheres.com/images/f5e372a36edfa389625da6d0cc25d905_cerberus_enhanced.tif_full.jpg\n",
      "-------------\n",
      "Schiaparelli Hemisphere\n",
      "https://marshemispheres.com/images/schiaparelli_enhanced.tif\n",
      "https://marshemispheres.com/images/3778f7b43bbbc89d6e3cfabb3613ba93_schiaparelli_enhanced.tif_full.jpg\n",
      "-------------\n",
      "Syrtis Major Hemisphere\n",
      "https://marshemispheres.com/images/syrtis_major_enhanced.tif\n",
      "https://marshemispheres.com/images/555e6403a6ddd7ba16ddb0e471cadcf7_syrtis_major_enhanced.tif_full.jpg\n",
      "-------------\n",
      "Valles Marineris Hemisphere\n",
      "https://marshemispheres.com/images/valles_marineris_enhanced.tif\n",
      "https://marshemispheres.com/images/b3c7c6c9138f57b4756be9b9c43e3a48_valles_marineris_enhanced.tif_full.jpg\n",
      "-------------\n"
     ]
    }
   ],
   "source": [
    "hemisphere_image_urls=[]\n",
    "\n",
    "# executable_path = {'executable_path': ChromeDriverManager().install()}\n",
    "# browser = Browser('chrome', **executable_path, headless=False)\n",
    "\n",
    "# Loop through each hemisphere\n",
    "for result in results:\n",
    "    url_temp = mars_hem_url + result.a['href']    \n",
    "    title = result.h3.text.replace(\" Enhanced\", \"\")\n",
    "    \n",
    "    # Open temp_url and look for image element  \n",
    "    browser.visit(url_temp)\n",
    "    \n",
    "    # Read in page source\n",
    "    html = requests.get(url_temp).text\n",
    "    \n",
    "    # Create BeautifulSoup object; parse with 'html.parser'\n",
    "    soup = bs(html, 'html.parser')\n",
    "    \n",
    "    # Pulling out local image url\n",
    "    results_temp=soup.find_all('dd')[1].a['href']\n",
    "    results_temp_v2=soup.find('img', class_=\"wide-image\")['src']\n",
    "#     print(results_temp)\n",
    "    \n",
    "    # Full image url\n",
    "    full_url = mars_hem_url + results_temp\n",
    "    \n",
    "    # Create dictionary entry\n",
    "    hem_dic_entry = {\n",
    "        \"title\"       : result.h3.text.replace(\" Enhanced\", \"\"),\n",
    "        \"img_url\"     : mars_hem_url + results_temp_v2#,full_url,\n",
    "#         \"img_url_full\": mars_hem_url + results_temp_v2\n",
    "    }\n",
    "    \n",
    "    # Append new entry to dictionary     \n",
    "    hemisphere_image_urls.append(hem_dic_entry)\n",
    "    \n",
    "    print(title)\n",
    "#     print(url_temp)\n",
    "    print(full_url)\n",
    "    print(mars_hem_url + results_temp_v2)\n",
    "    print('-------------')\n",
    "    \n",
    "# Close browser window\n",
    "browser.quit()"
   ]
  },
  {
   "cell_type": "code",
   "execution_count": 98,
   "metadata": {},
   "outputs": [
    {
     "data": {
      "text/plain": [
       "[{'title': 'Cerberus Hemisphere',\n",
       "  'img_url': 'https://marshemispheres.com/images/f5e372a36edfa389625da6d0cc25d905_cerberus_enhanced.tif_full.jpg'},\n",
       " {'title': 'Schiaparelli Hemisphere',\n",
       "  'img_url': 'https://marshemispheres.com/images/3778f7b43bbbc89d6e3cfabb3613ba93_schiaparelli_enhanced.tif_full.jpg'},\n",
       " {'title': 'Syrtis Major Hemisphere',\n",
       "  'img_url': 'https://marshemispheres.com/images/555e6403a6ddd7ba16ddb0e471cadcf7_syrtis_major_enhanced.tif_full.jpg'},\n",
       " {'title': 'Valles Marineris Hemisphere',\n",
       "  'img_url': 'https://marshemispheres.com/images/b3c7c6c9138f57b4756be9b9c43e3a48_valles_marineris_enhanced.tif_full.jpg'}]"
      ]
     },
     "execution_count": 98,
     "metadata": {},
     "output_type": "execute_result"
    }
   ],
   "source": [
    "hemisphere_image_urls"
   ]
  },
  {
   "cell_type": "code",
   "execution_count": 99,
   "metadata": {},
   "outputs": [],
   "source": [
    "info = {\n",
    "    \"mars_news\"            : article,\n",
    "    \"mars_stats\"           : mars_stats_v1.set_index('Props').to_dict('index'),\n",
    "    \"hemisphere_image_urls\": hemisphere_image_urls\n",
    "        }"
   ]
  },
  {
   "cell_type": "code",
   "execution_count": 100,
   "metadata": {},
   "outputs": [
    {
     "name": "stdout",
     "output_type": "stream",
     "text": [
      "{  'hemisphere_image_urls': [  {  'img_url': 'https://marshemispheres.com/images/f5e372a36edfa389625da6d0cc25d905_cerberus_enhanced.tif_full.jpg',\n",
      "                                  'title': 'Cerberus Hemisphere'},\n",
      "                               {  'img_url': 'https://marshemispheres.com/images/3778f7b43bbbc89d6e3cfabb3613ba93_schiaparelli_enhanced.tif_full.jpg',\n",
      "                                  'title': 'Schiaparelli Hemisphere'},\n",
      "                               {  'img_url': 'https://marshemispheres.com/images/555e6403a6ddd7ba16ddb0e471cadcf7_syrtis_major_enhanced.tif_full.jpg',\n",
      "                                  'title': 'Syrtis Major Hemisphere'},\n",
      "                               {  'img_url': 'https://marshemispheres.com/images/b3c7c6c9138f57b4756be9b9c43e3a48_valles_marineris_enhanced.tif_full.jpg',\n",
      "                                  'title': 'Valles Marineris Hemisphere'}],\n",
      "   'mars_news': {  'news_p': \"A batch of new papers summarizes the lander's \"\n",
      "                             'findings above and below the surface of the Red '\n",
      "                             'Planet.',\n",
      "                   'news_title': \"A Year of Surprising Science From NASA's \"\n",
      "                                 'InSight Mars Mission'},\n",
      "   'mars_stats': {  'Equatorial Diameter:': {'Value': '6,792 km'},\n",
      "                    'First Record:': {'Value': '2nd millennium BC'},\n",
      "                    'Mass:': {'Value': '6.39 × 10^23 kg (0.11 Earths)'},\n",
      "                    'Moons:': {'Value': '2 ( Phobos & Deimos )'},\n",
      "                    'Orbit Distance:': {'Value': '227,943,824 km (1.38 AU)'},\n",
      "                    'Orbit Period:': {'Value': '687 days (1.9 years)'},\n",
      "                    'Polar Diameter:': {'Value': '6,752 km'},\n",
      "                    'Recorded By:': {'Value': 'Egyptian astronomers'},\n",
      "                    'Surface Temperature:': {'Value': '-87 to -5 °C'}}}\n"
     ]
    }
   ],
   "source": [
    "pp(info, indent=3)"
   ]
  },
  {
   "cell_type": "code",
   "execution_count": 101,
   "metadata": {},
   "outputs": [
    {
     "name": "stdout",
     "output_type": "stream",
     "text": [
      "[   {   'img_url': 'https://marshemispheres.com/images/f5e372a36edfa389625da6d0cc25d905_cerberus_enhanced.tif_full.jpg',\n",
      "        'title': 'Cerberus Hemisphere'},\n",
      "    {   'img_url': 'https://marshemispheres.com/images/3778f7b43bbbc89d6e3cfabb3613ba93_schiaparelli_enhanced.tif_full.jpg',\n",
      "        'title': 'Schiaparelli Hemisphere'},\n",
      "    {   'img_url': 'https://marshemispheres.com/images/555e6403a6ddd7ba16ddb0e471cadcf7_syrtis_major_enhanced.tif_full.jpg',\n",
      "        'title': 'Syrtis Major Hemisphere'},\n",
      "    {   'img_url': 'https://marshemispheres.com/images/b3c7c6c9138f57b4756be9b9c43e3a48_valles_marineris_enhanced.tif_full.jpg',\n",
      "        'title': 'Valles Marineris Hemisphere'}]\n"
     ]
    }
   ],
   "source": [
    "pp(info[\"hemisphere_image_urls\"], indent=4)"
   ]
  },
  {
   "cell_type": "code",
   "execution_count": null,
   "metadata": {},
   "outputs": [],
   "source": []
  }
 ],
 "metadata": {
  "kernelspec": {
   "display_name": "Python [conda env:root] *",
   "language": "python",
   "name": "conda-root-py"
  },
  "language_info": {
   "codemirror_mode": {
    "name": "ipython",
    "version": 3
   },
   "file_extension": ".py",
   "mimetype": "text/x-python",
   "name": "python",
   "nbconvert_exporter": "python",
   "pygments_lexer": "ipython3",
   "version": "3.8.5"
  }
 },
 "nbformat": 4,
 "nbformat_minor": 4
}
