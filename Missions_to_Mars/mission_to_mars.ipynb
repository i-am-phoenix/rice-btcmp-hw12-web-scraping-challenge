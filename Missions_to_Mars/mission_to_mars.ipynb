{
 "cells": [
  {
   "cell_type": "code",
   "execution_count": 1,
   "metadata": {},
   "outputs": [],
   "source": [
    "# Importing modules & dependencies\n",
    "from bs4 import BeautifulSoup as bs\n",
    "import pandas as pd\n",
    "import requests\n",
    "from splinter import Browser\n",
    "from webdriver_manager.chrome import ChromeDriverManager\n",
    "from pprint import pprint as pp"
   ]
  },
  {
   "cell_type": "code",
   "execution_count": 2,
   "metadata": {},
   "outputs": [],
   "source": [
    "#-----------------------------------MARS NEWS SITE-----------------------------------#\n",
    "# URL of page to be scraped\n",
    "url_mars_news = 'https://redplanetscience.com/'"
   ]
  },
  {
   "cell_type": "code",
   "execution_count": 3,
   "metadata": {},
   "outputs": [
    {
     "name": "stderr",
     "output_type": "stream",
     "text": [
      "\n",
      "\n",
      "====== WebDriver manager ======\n",
      "Current google-chrome version is 91.0.4472\n",
      "Get LATEST driver version for 91.0.4472\n",
      "Driver [C:\\Users\\troub\\.wdm\\drivers\\chromedriver\\win32\\91.0.4472.101\\chromedriver.exe] found in cache\n"
     ]
    }
   ],
   "source": [
    "# Setup splinter\n",
    "# simulate opening a Chrome browser window and triggering JS script execution\n",
    "executable_path = {'executable_path': ChromeDriverManager().install()}\n",
    "browser = Browser('chrome', **executable_path, headless=False)"
   ]
  },
  {
   "cell_type": "code",
   "execution_count": 4,
   "metadata": {},
   "outputs": [],
   "source": [
    "# Open url_mars_news within teh newly opened browser session\n",
    "browser.visit(url_mars_news)"
   ]
  },
  {
   "cell_type": "code",
   "execution_count": 5,
   "metadata": {},
   "outputs": [],
   "source": [
    "# Retrieve page with the requests module\n",
    "# response = requests.get(url_mars_news)\n",
    "html = browser.html"
   ]
  },
  {
   "cell_type": "code",
   "execution_count": 6,
   "metadata": {},
   "outputs": [],
   "source": [
    "# Create BeautifulSoup object; parse with 'html.parser'\n",
    "soup = bs(html, 'html.parser')\n",
    "# soup"
   ]
  },
  {
   "cell_type": "code",
   "execution_count": 7,
   "metadata": {},
   "outputs": [
    {
     "name": "stdout",
     "output_type": "stream",
     "text": [
      "<div class=\"col-md-8\">\n",
      " <div class=\"list_text\">\n",
      "  <div class=\"list_date\">\n",
      "   July 13, 2021\n",
      "  </div>\n",
      "  <div class=\"content_title\">\n",
      "   InSight's 'Mole' Team Peers into the Pit\n",
      "  </div>\n",
      "  <div class=\"article_teaser_body\">\n",
      "   Efforts to save the heat probe continue.\n",
      "  </div>\n",
      " </div>\n",
      "</div>\n",
      "\n",
      "-------------\n",
      "<div class=\"col-md-8\">\n",
      " <div class=\"list_text\">\n",
      "  <div class=\"list_date\">\n",
      "   July 12, 2021\n",
      "  </div>\n",
      "  <div class=\"content_title\">\n",
      "   Follow NASA's Perseverance Rover in Real Time on Its Way to Mars\n",
      "  </div>\n",
      "  <div class=\"article_teaser_body\">\n",
      "   A crisply rendered web application can show you where the agency's Mars 2020 mission is right now as it makes its way to the Red Planet for a Feb. 18, 2021, landing.\n",
      "  </div>\n",
      " </div>\n",
      "</div>\n",
      "\n",
      "-------------\n",
      "<div class=\"col-md-8\">\n",
      " <div class=\"list_text\">\n",
      "  <div class=\"list_date\">\n",
      "   July 10, 2021\n",
      "  </div>\n",
      "  <div class=\"content_title\">\n",
      "   NASA, ULA Launch Mars 2020 Perseverance Rover Mission to Red Planet\n",
      "  </div>\n",
      "  <div class=\"article_teaser_body\">\n",
      "   The agency's Mars 2020 mission is on its way. It will land at Jezero Crater in about seven months, on Feb. 18, 2021.\n",
      "  </div>\n",
      " </div>\n",
      "</div>\n",
      "\n",
      "-------------\n",
      "<div class=\"col-md-8\">\n",
      " <div class=\"list_text\">\n",
      "  <div class=\"list_date\">\n",
      "   July 7, 2021\n",
      "  </div>\n",
      "  <div class=\"content_title\">\n",
      "   Two Rovers to Roll on Mars Again: Curiosity and Mars 2020\n",
      "  </div>\n",
      "  <div class=\"article_teaser_body\">\n",
      "   They look like twins. But under the hood, the rover currently exploring the Red Planet and the one launching there this summer have distinct science tools and roles to play.\n",
      "  </div>\n",
      " </div>\n",
      "</div>\n",
      "\n",
      "-------------\n",
      "<div class=\"col-md-8\">\n",
      " <div class=\"list_text\">\n",
      "  <div class=\"list_date\">\n",
      "   July 5, 2021\n",
      "  </div>\n",
      "  <div class=\"content_title\">\n",
      "   NASA Establishes Board to Initially Review Mars Sample Return Plans\n",
      "  </div>\n",
      "  <div class=\"article_teaser_body\">\n",
      "   The board will assist with analysis of current plans and goals for one of the most difficult missions humanity has ever undertaken.\n",
      "  </div>\n",
      " </div>\n",
      "</div>\n",
      "\n",
      "-------------\n",
      "<div class=\"col-md-8\">\n",
      " <div class=\"list_text\">\n",
      "  <div class=\"list_date\">\n",
      "   July 4, 2021\n",
      "  </div>\n",
      "  <div class=\"content_title\">\n",
      "   NASA's Perseverance Mars Rover Gets Balanced\n",
      "  </div>\n",
      "  <div class=\"article_teaser_body\">\n",
      "   The mission team performed a crucial weight-balancing test on the rover in preparation for this summer's history-making launch to the Red Planet.\n",
      "  </div>\n",
      " </div>\n",
      "</div>\n",
      "\n",
      "-------------\n",
      "<div class=\"col-md-8\">\n",
      " <div class=\"list_text\">\n",
      "  <div class=\"list_date\">\n",
      "   July 4, 2021\n",
      "  </div>\n",
      "  <div class=\"content_title\">\n",
      "   NASA InSight's 'Mole' Is Out of Sight\n",
      "  </div>\n",
      "  <div class=\"article_teaser_body\">\n",
      "   Now that the heat probe is just below the Martian surface, InSight's arm will scoop some additional soil on top to help it keep digging so it can take Mars' temperature.\n",
      "  </div>\n",
      " </div>\n",
      "</div>\n",
      "\n",
      "-------------\n",
      "<div class=\"col-md-8\">\n",
      " <div class=\"list_text\">\n",
      "  <div class=\"list_date\">\n",
      "   July 3, 2021\n",
      "  </div>\n",
      "  <div class=\"content_title\">\n",
      "   NASA Engineers Checking InSight's Weather Sensors\n",
      "  </div>\n",
      "  <div class=\"article_teaser_body\">\n",
      "   An electronics issue is suspected to be preventing the sensors from sharing their data about Mars weather with the spacecraft.\n",
      "  </div>\n",
      " </div>\n",
      "</div>\n",
      "\n",
      "-------------\n",
      "<div class=\"col-md-8\">\n",
      " <div class=\"list_text\">\n",
      "  <div class=\"list_date\">\n",
      "   June 23, 2021\n",
      "  </div>\n",
      "  <div class=\"content_title\">\n",
      "   Nine Finalists Chosen in NASA's Mars 2020 Rover Naming Contest\n",
      "  </div>\n",
      "  <div class=\"article_teaser_body\">\n",
      "   Nine finalists have been chosen in the essay contest for K-12 students across U.S. to name NASA's next Mars rover. Now you can help by voting for your favorite.\n",
      "  </div>\n",
      " </div>\n",
      "</div>\n",
      "\n",
      "-------------\n",
      "<div class=\"col-md-8\">\n",
      " <div class=\"list_text\">\n",
      "  <div class=\"list_date\">\n",
      "   June 23, 2021\n",
      "  </div>\n",
      "  <div class=\"content_title\">\n",
      "   Robotic Toolkit Added to NASA's Mars 2020 Rover\n",
      "  </div>\n",
      "  <div class=\"article_teaser_body\">\n",
      "   The bit carousel, which lies at the heart of the rover's Sample Caching System, is now aboard NASA's newest rover.\n",
      "  </div>\n",
      " </div>\n",
      "</div>\n",
      "\n",
      "-------------\n",
      "<div class=\"col-md-8\">\n",
      " <div class=\"list_text\">\n",
      "  <div class=\"list_date\">\n",
      "   June 22, 2021\n",
      "  </div>\n",
      "  <div class=\"content_title\">\n",
      "   NASA's Curiosity Rover Finds an Ancient Oasis on Mars\n",
      "  </div>\n",
      "  <div class=\"article_teaser_body\">\n",
      "   New evidence suggests salty, shallow ponds once dotted a Martian crater — a sign of the planet's drying climate.\n",
      "  </div>\n",
      " </div>\n",
      "</div>\n",
      "\n",
      "-------------\n",
      "<div class=\"col-md-8\">\n",
      " <div class=\"list_text\">\n",
      "  <div class=\"list_date\">\n",
      "   June 17, 2021\n",
      "  </div>\n",
      "  <div class=\"content_title\">\n",
      "   NASA's Perseverance Rover Is Midway to Mars\n",
      "  </div>\n",
      "  <div class=\"article_teaser_body\">\n",
      "   Sometimes half measures can be a good thing – especially on a journey this long. The agency's latest rover only has about 146 million miles left to reach its destination.\n",
      "  </div>\n",
      " </div>\n",
      "</div>\n",
      "\n",
      "-------------\n",
      "<div class=\"col-md-8\">\n",
      " <div class=\"list_text\">\n",
      "  <div class=\"list_date\">\n",
      "   June 17, 2021\n",
      "  </div>\n",
      "  <div class=\"content_title\">\n",
      "   Naming a NASA Mars Rover Can Change Your Life\n",
      "  </div>\n",
      "  <div class=\"article_teaser_body\">\n",
      "   Want to name the robotic scientist NASA is sending to Mars in 2020? The student who named Curiosity — the rover currently exploring Mars — will tell you this is an opportunity worth taking.\n",
      "  </div>\n",
      " </div>\n",
      "</div>\n",
      "\n",
      "-------------\n",
      "<div class=\"col-md-8\">\n",
      " <div class=\"list_text\">\n",
      "  <div class=\"list_date\">\n",
      "   June 17, 2021\n",
      "  </div>\n",
      "  <div class=\"content_title\">\n",
      "   NASA's New Mars Rover Is Ready for Space Lasers\n",
      "  </div>\n",
      "  <div class=\"article_teaser_body\">\n",
      "   Perseverance is one of a few Mars spacecraft carrying laser retroreflectors. The devices could provide new science and safer Mars landings in the future.\n",
      "  </div>\n",
      " </div>\n",
      "</div>\n",
      "\n",
      "-------------\n",
      "<div class=\"col-md-8\">\n",
      " <div class=\"list_text\">\n",
      "  <div class=\"list_date\">\n",
      "   June 13, 2021\n",
      "  </div>\n",
      "  <div class=\"content_title\">\n",
      "   Newfound Martian Aurora Actually the Most Common; Sheds Light on Mars' Changing Climate\n",
      "  </div>\n",
      "  <div class=\"article_teaser_body\">\n",
      "   A type of Martian aurora first identified by NASA’s MAVEN spacecraft in 2016 is actually the most common form of aurora occurring on the Red Planet, according to new results from the mission.\n",
      "  </div>\n",
      " </div>\n",
      "</div>\n",
      "\n",
      "-------------\n"
     ]
    }
   ],
   "source": [
    "# Extract a single section with main content and then pull all div tags with class=\"col-md-8\"\n",
    "results = soup.find('section', class_='image_and_description_container').find_all('div', class_=\"col-md-8\")\n",
    "for result in results:\n",
    "    print(result.prettify())\n",
    "    print(\"-------------\")"
   ]
  },
  {
   "cell_type": "code",
   "execution_count": 8,
   "metadata": {},
   "outputs": [
    {
     "name": "stdout",
     "output_type": "stream",
     "text": [
      "-------------\n",
      "InSight's 'Mole' Team Peers into the Pit\n",
      "Efforts to save the heat probe continue.\n",
      "-------------\n",
      "Follow NASA's Perseverance Rover in Real Time on Its Way to Mars\n",
      "A crisply rendered web application can show you where the agency's Mars 2020 mission is right now as it makes its way to the Red Planet for a Feb. 18, 2021, landing.\n",
      "-------------\n",
      "NASA, ULA Launch Mars 2020 Perseverance Rover Mission to Red Planet\n",
      "The agency's Mars 2020 mission is on its way. It will land at Jezero Crater in about seven months, on Feb. 18, 2021. \n",
      "-------------\n",
      "Two Rovers to Roll on Mars Again: Curiosity and Mars 2020\n",
      "They look like twins. But under the hood, the rover currently exploring the Red Planet and the one launching there this summer have distinct science tools and roles to play.\n",
      "-------------\n",
      "NASA Establishes Board to Initially Review Mars Sample Return Plans\n",
      "The board will assist with analysis of current plans and goals for one of the most difficult missions humanity has ever undertaken.\n",
      "-------------\n",
      "NASA's Perseverance Mars Rover Gets Balanced\n",
      "The mission team performed a crucial weight-balancing test on the rover in preparation for this summer's history-making launch to the Red Planet.\n",
      "-------------\n",
      "NASA InSight's 'Mole' Is Out of Sight\n",
      "Now that the heat probe is just below the Martian surface, InSight's arm will scoop some additional soil on top to help it keep digging so it can take Mars' temperature.\n",
      "-------------\n",
      "NASA Engineers Checking InSight's Weather Sensors\n",
      "An electronics issue is suspected to be preventing the sensors from sharing their data about Mars weather with the spacecraft.\n",
      "-------------\n",
      "Nine Finalists Chosen in NASA's Mars 2020 Rover Naming Contest\n",
      "Nine finalists have been chosen in the essay contest for K-12 students across U.S. to name NASA's next Mars rover. Now you can help by voting for your favorite. \n",
      "-------------\n",
      "Robotic Toolkit Added to NASA's Mars 2020 Rover\n",
      "The bit carousel, which lies at the heart of the rover's Sample Caching System, is now aboard NASA's newest rover. \n",
      "-------------\n",
      "NASA's Curiosity Rover Finds an Ancient Oasis on Mars\n",
      "New evidence suggests salty, shallow ponds once dotted a Martian crater — a sign of the planet's drying climate.\n",
      "-------------\n",
      "NASA's Perseverance Rover Is Midway to Mars \n",
      "Sometimes half measures can be a good thing – especially on a journey this long. The agency's latest rover only has about 146 million miles left to reach its destination.\n",
      "-------------\n",
      "Naming a NASA Mars Rover Can Change Your Life\n",
      "Want to name the robotic scientist NASA is sending to Mars in 2020? The student who named Curiosity — the rover currently exploring Mars — will tell you this is an opportunity worth taking.\n",
      "-------------\n",
      "NASA's New Mars Rover Is Ready for Space Lasers\n",
      "Perseverance is one of a few Mars spacecraft carrying laser retroreflectors. The devices could provide new science and safer Mars landings in the future.\n",
      "-------------\n",
      "Newfound Martian Aurora Actually the Most Common; Sheds Light on Mars' Changing Climate\n",
      "A type of Martian aurora first identified by NASA’s MAVEN spacecraft in 2016 is actually the most common form of aurora occurring on the Red Planet, according to new results from the mission.\n"
     ]
    }
   ],
   "source": [
    "# Initialize news articles dictionary\n",
    "articles=[]\n",
    "\n",
    "#  Loop through returned results\n",
    "for result in results:\n",
    "    # Error handling\n",
    "    try:\n",
    "        # Identify and return post title\n",
    "        title = result.find('div', class_='content_title').text\n",
    "        \n",
    "        # Identify and return post description\n",
    "        paragraph = result.find('div', class_='article_teaser_body').text\n",
    "        \n",
    "        # Creade a dictionary entry\n",
    "        article_entry = {\n",
    "            \"news_title\" : title,\n",
    "            \"news_p\"     : paragraph\n",
    "        }\n",
    "        \n",
    "        # Add new article entry to a dictionary \n",
    "        articles.append(article_entry)\n",
    "        \n",
    "        # Print results only if title and description are available\n",
    "        if (title and paragraph):\n",
    "            print('-------------')\n",
    "            print(title)\n",
    "            print(paragraph)\n",
    "    except AttributeError as e:\n",
    "        print(e)"
   ]
  },
  {
   "cell_type": "code",
   "execution_count": 9,
   "metadata": {},
   "outputs": [],
   "source": [
    "# articles\n",
    "# pd.DataFrame(articles)"
   ]
  },
  {
   "cell_type": "code",
   "execution_count": 10,
   "metadata": {},
   "outputs": [],
   "source": [
    "# Close browser window\n",
    "browser.quit()"
   ]
  },
  {
   "cell_type": "code",
   "execution_count": 11,
   "metadata": {},
   "outputs": [],
   "source": [
    "#-----------------------------------JPL Mars Space Images - Featured Image-----------------------------------#\n",
    "jpl_url='https://spaceimages-mars.com/'"
   ]
  },
  {
   "cell_type": "code",
   "execution_count": 12,
   "metadata": {},
   "outputs": [
    {
     "name": "stderr",
     "output_type": "stream",
     "text": [
      "\n",
      "\n",
      "====== WebDriver manager ======\n",
      "Current google-chrome version is 91.0.4472\n",
      "Get LATEST driver version for 91.0.4472\n",
      "Driver [C:\\Users\\troub\\.wdm\\drivers\\chromedriver\\win32\\91.0.4472.101\\chromedriver.exe] found in cache\n"
     ]
    }
   ],
   "source": [
    "# Setup splinter\n",
    "executable_path = {'executable_path': ChromeDriverManager().install()}\n",
    "browser = Browser('chrome', **executable_path, headless=False)"
   ]
  },
  {
   "cell_type": "code",
   "execution_count": 13,
   "metadata": {},
   "outputs": [],
   "source": [
    "# Open url_mars_news within teh newly opened browser session\n",
    "browser.visit(jpl_url)"
   ]
  },
  {
   "cell_type": "code",
   "execution_count": 14,
   "metadata": {},
   "outputs": [],
   "source": [
    "# Read in page source\n",
    "html = browser.html"
   ]
  },
  {
   "cell_type": "code",
   "execution_count": 15,
   "metadata": {},
   "outputs": [],
   "source": [
    "# Parse the page source using html.parser\n",
    "soup = bs(html, 'html.parser')"
   ]
  },
  {
   "cell_type": "code",
   "execution_count": 18,
   "metadata": {},
   "outputs": [
    {
     "data": {
      "text/plain": [
       "'image/featured/mars3.jpg'"
      ]
     },
     "execution_count": 18,
     "metadata": {},
     "output_type": "execute_result"
    }
   ],
   "source": [
    "featured_image_url = soup.find('img', class_='headerimage fade-in')['src']"
   ]
  },
  {
   "cell_type": "code",
   "execution_count": null,
   "metadata": {},
   "outputs": [],
   "source": []
  }
 ],
 "metadata": {
  "kernelspec": {
   "display_name": "Python [conda env:root] *",
   "language": "python",
   "name": "conda-root-py"
  },
  "language_info": {
   "codemirror_mode": {
    "name": "ipython",
    "version": 3
   },
   "file_extension": ".py",
   "mimetype": "text/x-python",
   "name": "python",
   "nbconvert_exporter": "python",
   "pygments_lexer": "ipython3",
   "version": "3.8.5"
  }
 },
 "nbformat": 4,
 "nbformat_minor": 4
}
